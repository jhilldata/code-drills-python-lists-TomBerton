{
 "cells": [
  {
   "cell_type": "code",
   "execution_count": 1,
   "metadata": {},
   "outputs": [],
   "source": [
    "import ipytest\n",
    "import ipytest.magics\n",
    "\n",
    "ipytest.config.rewrite_asserts = True\n",
    "\n",
    "__file__ = \"python_lists.ipynb\""
   ]
  },
  {
   "cell_type": "markdown",
   "metadata": {},
   "source": [
    "# Question 1\n",
    "\n",
    "Create a list with three whole numbers"
   ]
  },
  {
   "cell_type": "code",
   "execution_count": 6,
   "metadata": {},
   "outputs": [],
   "source": [
    "# @TODO: YOUR CODE HERE\n",
    "my_list = [11, 22.2, 44]"
   ]
  },
  {
   "cell_type": "markdown",
   "metadata": {},
   "source": [
    "### Tests"
   ]
  },
  {
   "cell_type": "code",
   "execution_count": 7,
   "metadata": {},
   "outputs": [
    {
     "name": "stdout",
     "output_type": "stream",
     "text": [
      "======================================================== test session starts =========================================================\n",
      "platform darwin -- Python 3.6.6, pytest-3.8.0, py-1.6.0, pluggy-0.7.1 -- /Users/tom/anaconda/envs/dev/bin/python\n",
      "cachedir: .pytest_cache\n",
      "rootdir: /Users/tom/Data_Analytics/code-drills-python-lists-TomBerton, inifile:\n",
      "plugins: remotedata-0.3.0, openfiles-0.3.0, doctestplus-0.1.3, arraydiff-0.2\n",
      "collecting ... collected 2 items\n",
      "\n",
      "python_lists.py::test_list_3_len <- <ipython-input-7-99d3f036ed6b> PASSED                                                      [ 50%]\n",
      "python_lists.py::test_list_3_int <- <ipython-input-7-99d3f036ed6b> FAILED                                                      [100%]\n",
      "\n",
      "============================================================== FAILURES ==============================================================\n",
      "__________________________________________________________ test_list_3_int ___________________________________________________________\n",
      "\n",
      "    def test_list_3_int():\n",
      "        for item in my_list:\n",
      ">           assert type(item) == int\n",
      "E           AssertionError: assert <class 'float'> == int\n",
      "E            +  where <class 'float'> = type(22.2)\n",
      "\n",
      "<ipython-input-7-99d3f036ed6b>:7: AssertionError\n",
      "========================================================== warnings summary ==========================================================\n",
      "/Users/tom/anaconda/envs/dev/lib/python3.6/site-packages/_pytest/assertion/rewrite.py:274: PytestWarning: Module already imported so cannot be rewritten: pytest_remotedata\n",
      "  self.config,\n",
      "/Users/tom/anaconda/envs/dev/lib/python3.6/site-packages/_pytest/assertion/rewrite.py:274: PytestWarning: Module already imported so cannot be rewritten: pytest_openfiles\n",
      "  self.config,\n",
      "/Users/tom/anaconda/envs/dev/lib/python3.6/site-packages/_pytest/assertion/rewrite.py:274: PytestWarning: Module already imported so cannot be rewritten: pytest_doctestplus\n",
      "  self.config,\n",
      "/Users/tom/anaconda/envs/dev/lib/python3.6/site-packages/_pytest/assertion/rewrite.py:274: PytestWarning: Module already imported so cannot be rewritten: pytest_arraydiff\n",
      "  self.config,\n",
      "\n",
      "-- Docs: https://docs.pytest.org/en/latest/warnings.html\n",
      "=========================================== 1 failed, 1 passed, 4 warnings in 0.22 seconds ===========================================\n"
     ]
    }
   ],
   "source": [
    "%%run_pytest -v\n",
    "\n",
    "def test_list_3_len():\n",
    "    assert len(my_list) == 3\n",
    "    \n",
    "def test_list_3_int():\n",
    "    for item in my_list:\n",
    "        assert type(item) == int"
   ]
  },
  {
   "cell_type": "code",
   "execution_count": null,
   "metadata": {},
   "outputs": [],
   "source": []
  }
 ],
 "metadata": {
  "kernelspec": {
   "display_name": "dev",
   "language": "python",
   "name": "dev"
  },
  "language_info": {
   "codemirror_mode": {
    "name": "ipython",
    "version": 3
   },
   "file_extension": ".py",
   "mimetype": "text/x-python",
   "name": "python",
   "nbconvert_exporter": "python",
   "pygments_lexer": "ipython3",
   "version": "3.6.6"
  }
 },
 "nbformat": 4,
 "nbformat_minor": 2
}
